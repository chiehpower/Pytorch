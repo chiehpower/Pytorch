{
 "cells": [
  {
   "cell_type": "markdown",
   "metadata": {},
   "source": [
    "# Operation test"
   ]
  },
  {
   "cell_type": "code",
   "execution_count": 1,
   "metadata": {},
   "outputs": [],
   "source": [
    "import torch\n",
    "import torch.nn as nn\n",
    "import torch.nn.functional as F\n",
    "import numpy as np"
   ]
  },
  {
   "cell_type": "markdown",
   "metadata": {},
   "source": [
    "## Torch.topk"
   ]
  },
  {
   "cell_type": "code",
   "execution_count": 2,
   "metadata": {},
   "outputs": [],
   "source": [
    "output = torch.tensor([[-5.415, 0.4227],\n",
    "                           [-4.2153, -0.4337],\n",
    "                           [-0.1972, -5.1387],\n",
    "                           [-0.1829, -4.9819]])"
   ]
  },
  {
   "cell_type": "code",
   "execution_count": 3,
   "metadata": {},
   "outputs": [],
   "source": [
    "maxk = max((1,))\n",
    "_, pred = output.topk(maxk, 1, True, True)"
   ]
  },
  {
   "cell_type": "code",
   "execution_count": 4,
   "metadata": {},
   "outputs": [
    {
     "data": {
      "text/plain": [
       "tensor([[ 0.4227],\n",
       "        [-0.4337],\n",
       "        [-0.1972],\n",
       "        [-0.1829]])"
      ]
     },
     "execution_count": 4,
     "metadata": {},
     "output_type": "execute_result"
    }
   ],
   "source": [
    "_"
   ]
  },
  {
   "cell_type": "code",
   "execution_count": 5,
   "metadata": {},
   "outputs": [
    {
     "data": {
      "text/plain": [
       "tensor([[1],\n",
       "        [1],\n",
       "        [0],\n",
       "        [0]])"
      ]
     },
     "execution_count": 5,
     "metadata": {},
     "output_type": "execute_result"
    }
   ],
   "source": [
    "pred"
   ]
  },
  {
   "cell_type": "markdown",
   "metadata": {},
   "source": [
    "## Torch.cat"
   ]
  },
  {
   "cell_type": "code",
   "execution_count": 6,
   "metadata": {},
   "outputs": [
    {
     "name": "stdout",
     "output_type": "stream",
     "text": [
      "a: tensor([[1., 1., 1.]])\n",
      "b: tensor([[0., 0.]])\n",
      "b: tensor([[0., 0., 0.]])\n"
     ]
    }
   ],
   "source": [
    "a = torch.ones([1, 3])\n",
    "b = torch.zeros([1, 2])\n",
    "c = torch.zeros([1, 3])\n",
    "print(\"a:\",a)\n",
    "print(\"b:\",b)\n",
    "print(\"b:\",c)"
   ]
  },
  {
   "cell_type": "code",
   "execution_count": 7,
   "metadata": {},
   "outputs": [
    {
     "name": "stdout",
     "output_type": "stream",
     "text": [
      "tensor([[1., 1., 1., 0., 0.]])\n"
     ]
    }
   ],
   "source": [
    "print(torch.cat([a, b], 1))"
   ]
  },
  {
   "cell_type": "code",
   "execution_count": 8,
   "metadata": {},
   "outputs": [
    {
     "name": "stdout",
     "output_type": "stream",
     "text": [
      "tensor([[1., 1., 1.],\n",
      "        [0., 0., 0.]])\n"
     ]
    }
   ],
   "source": [
    "print(torch.cat([a, c], 0))"
   ]
  },
  {
   "cell_type": "markdown",
   "metadata": {},
   "source": [
    "## LocalResponseNorm\n",
    "Check here : https://github.com/pytorch/pytorch/blob/dcfc121fd792393205104a9f07fc4ee0da0ced69/torch/nn/modules/normalization.py#L10"
   ]
  },
  {
   "cell_type": "code",
   "execution_count": 9,
   "metadata": {},
   "outputs": [],
   "source": [
    "lrn = nn.LocalResponseNorm(2)\n",
    "signal_2d = torch.randn(2, 2, 2, 4)\n",
    "output_2d = lrn(signal_2d)"
   ]
  },
  {
   "cell_type": "code",
   "execution_count": 10,
   "metadata": {},
   "outputs": [
    {
     "name": "stdout",
     "output_type": "stream",
     "text": [
      "signal_2d: tensor([[[[ 0.0408,  1.1338,  0.3098,  0.2453],\n",
      "          [-0.8429,  0.9977,  0.9967,  0.1558]],\n",
      "\n",
      "         [[-0.8071, -0.3961,  1.0737, -0.4210],\n",
      "          [ 0.7008, -0.7149,  0.0929,  0.8093]]],\n",
      "\n",
      "\n",
      "        [[[ 0.4955,  0.5864,  0.7391,  1.1015],\n",
      "          [-0.4389, -1.1232,  1.8109, -0.4248]],\n",
      "\n",
      "         [[-1.5490,  0.2501,  0.8784, -0.4013],\n",
      "          [ 0.2832,  0.1359, -0.5589, -0.6184]]]])\n",
      "\n",
      "After ...\n",
      "\n",
      "output_2d: tensor([[[[ 0.0408,  1.1338,  0.3098,  0.2453],\n",
      "          [-0.8428,  0.9976,  0.9966,  0.1558]],\n",
      "\n",
      "         [[-0.8070, -0.3960,  1.0736, -0.4209],\n",
      "          [ 0.7008, -0.7149,  0.0929,  0.8093]]],\n",
      "\n",
      "\n",
      "        [[[ 0.4955,  0.5863,  0.7391,  1.1015],\n",
      "          [-0.4389, -1.1231,  1.8107, -0.4248]],\n",
      "\n",
      "         [[-1.5488,  0.2501,  0.8784, -0.4013],\n",
      "          [ 0.2832,  0.1359, -0.5589, -0.6184]]]])\n"
     ]
    }
   ],
   "source": [
    "print(\"signal_2d:\",signal_2d)\n",
    "print(\"\\nAfter ...\\n\")\n",
    "print(\"output_2d:\",output_2d)"
   ]
  },
  {
   "cell_type": "code",
   "execution_count": 11,
   "metadata": {},
   "outputs": [
    {
     "data": {
      "text/plain": [
       "tensor([[[[ 0.0408,  1.1338,  0.3098,  0.2453],\n",
       "          [-0.8428,  0.9976,  0.9966,  0.1558]],\n",
       "\n",
       "         [[-0.8070, -0.3960,  1.0736, -0.4209],\n",
       "          [ 0.7008, -0.7149,  0.0929,  0.8093]]],\n",
       "\n",
       "\n",
       "        [[[ 0.4955,  0.5863,  0.7391,  1.1015],\n",
       "          [-0.4389, -1.1231,  1.8107, -0.4248]],\n",
       "\n",
       "         [[-1.5488,  0.2501,  0.8784, -0.4013],\n",
       "          [ 0.2832,  0.1359, -0.5589, -0.6184]]]])"
      ]
     },
     "execution_count": 11,
     "metadata": {},
     "output_type": "execute_result"
    }
   ],
   "source": [
    "output_2d_norm = torch.nn.functional.local_response_norm(signal_2d, 2, alpha=0.0001, beta=0.75, k=1.0)\n",
    "output_2d_norm"
   ]
  },
  {
   "cell_type": "markdown",
   "metadata": {},
   "source": [
    "# Torch.from_numpy"
   ]
  },
  {
   "cell_type": "code",
   "execution_count": 12,
   "metadata": {},
   "outputs": [],
   "source": [
    "a = np.array([1, 2, 3])"
   ]
  },
  {
   "cell_type": "markdown",
   "metadata": {},
   "source": [
    "We can see that the t is converted to Tensor from np.array."
   ]
  },
  {
   "cell_type": "code",
   "execution_count": 13,
   "metadata": {},
   "outputs": [
    {
     "data": {
      "text/plain": [
       "tensor([1, 2, 3])"
      ]
     },
     "execution_count": 13,
     "metadata": {},
     "output_type": "execute_result"
    }
   ],
   "source": [
    "t = torch.from_numpy(a)\n",
    "t"
   ]
  },
  {
   "cell_type": "markdown",
   "metadata": {},
   "source": [
    "If we modify the element in `t`, the `a` will also be changed."
   ]
  },
  {
   "cell_type": "code",
   "execution_count": 14,
   "metadata": {},
   "outputs": [
    {
     "data": {
      "text/plain": [
       "array([-1,  2,  3])"
      ]
     },
     "execution_count": 14,
     "metadata": {},
     "output_type": "execute_result"
    }
   ],
   "source": [
    "t[0] = -1\n",
    "a"
   ]
  },
  {
   "cell_type": "markdown",
   "metadata": {},
   "source": [
    "# Torch.cuda.empty_cache()"
   ]
  },
  {
   "cell_type": "code",
   "execution_count": 15,
   "metadata": {},
   "outputs": [],
   "source": [
    "device = torch.device('cuda:0')\n",
    "# Define two tensors\n",
    "dummy_tensor_1 = torch.randn(120, 3, 512, 512).float().to(device)  # 120*3*512*512*4/1000/1000 = 377.48M\n",
    "dummy_tensor_2 = torch.randn(80, 3, 512, 512).float().to(device)  # 80*3*512*512*4/1000/1000 = 251.64M"
   ]
  },
  {
   "cell_type": "code",
   "execution_count": 16,
   "metadata": {},
   "outputs": [],
   "source": [
    "# Release\n",
    "dummy_tensor_1 = dummy_tensor_1.cpu()\n",
    "dummy_tensor_2 = dummy_tensor_2.cpu()\n",
    "\n",
    "torch.cuda.empty_cache()"
   ]
  }
 ],
 "metadata": {
  "kernelspec": {
   "display_name": "Python 3.6.9 64-bit",
   "language": "python",
   "name": "python36964bit295e9b82c93c4b1b9da023fa41933fbd"
  },
  "language_info": {
   "codemirror_mode": {
    "name": "ipython",
    "version": 3
   },
   "file_extension": ".py",
   "mimetype": "text/x-python",
   "name": "python",
   "nbconvert_exporter": "python",
   "pygments_lexer": "ipython3",
   "version": "3.6.9"
  }
 },
 "nbformat": 4,
 "nbformat_minor": 2
}
