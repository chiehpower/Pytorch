{
 "cells": [
  {
   "cell_type": "markdown",
   "metadata": {},
   "source": [
    "# Operation test"
   ]
  },
  {
   "cell_type": "code",
   "execution_count": 1,
   "metadata": {},
   "outputs": [],
   "source": [
    "import torch\n",
    "import torch.nn as nn\n",
    "import torch.nn.functional as F\n",
    "import numpy as np"
   ]
  },
  {
   "cell_type": "markdown",
   "metadata": {},
   "source": [
    "## Torch.topk"
   ]
  },
  {
   "cell_type": "code",
   "execution_count": 2,
   "metadata": {},
   "outputs": [],
   "source": [
    "output = torch.tensor([[-5.415, 0.4227],\n",
    "                           [-4.2153, -0.4337],\n",
    "                           [-0.1972, -5.1387],\n",
    "                           [-0.1829, -4.9819]])"
   ]
  },
  {
   "cell_type": "code",
   "execution_count": 3,
   "metadata": {},
   "outputs": [],
   "source": [
    "maxk = max((1,))\n",
    "_, pred = output.topk(maxk, 1, True, True)"
   ]
  },
  {
   "cell_type": "code",
   "execution_count": 4,
   "metadata": {},
   "outputs": [
    {
     "data": {
      "text/plain": [
       "tensor([[ 0.4227],\n",
       "        [-0.4337],\n",
       "        [-0.1972],\n",
       "        [-0.1829]])"
      ]
     },
     "execution_count": 4,
     "metadata": {},
     "output_type": "execute_result"
    }
   ],
   "source": [
    "_"
   ]
  },
  {
   "cell_type": "code",
   "execution_count": 5,
   "metadata": {},
   "outputs": [
    {
     "data": {
      "text/plain": [
       "tensor([[1],\n",
       "        [1],\n",
       "        [0],\n",
       "        [0]])"
      ]
     },
     "execution_count": 5,
     "metadata": {},
     "output_type": "execute_result"
    }
   ],
   "source": [
    "pred"
   ]
  },
  {
   "cell_type": "markdown",
   "metadata": {},
   "source": [
    "## Torch.cat"
   ]
  },
  {
   "cell_type": "code",
   "execution_count": 6,
   "metadata": {},
   "outputs": [
    {
     "name": "stdout",
     "output_type": "stream",
     "text": [
      "a: tensor([[1., 1., 1.]])\n",
      "b: tensor([[0., 0.]])\n",
      "b: tensor([[0., 0., 0.]])\n"
     ]
    }
   ],
   "source": [
    "a = torch.ones([1, 3])\n",
    "b = torch.zeros([1, 2])\n",
    "c = torch.zeros([1, 3])\n",
    "print(\"a:\",a)\n",
    "print(\"b:\",b)\n",
    "print(\"b:\",c)"
   ]
  },
  {
   "cell_type": "code",
   "execution_count": 7,
   "metadata": {},
   "outputs": [
    {
     "name": "stdout",
     "output_type": "stream",
     "text": [
      "tensor([[1., 1., 1., 0., 0.]])\n"
     ]
    }
   ],
   "source": [
    "print(torch.cat([a, b], 1))"
   ]
  },
  {
   "cell_type": "code",
   "execution_count": 8,
   "metadata": {},
   "outputs": [
    {
     "name": "stdout",
     "output_type": "stream",
     "text": [
      "tensor([[1., 1., 1.],\n",
      "        [0., 0., 0.]])\n"
     ]
    }
   ],
   "source": [
    "print(torch.cat([a, c], 0))"
   ]
  },
  {
   "cell_type": "markdown",
   "metadata": {},
   "source": [
    "## LocalResponseNorm\n",
    "Check here : https://github.com/pytorch/pytorch/blob/dcfc121fd792393205104a9f07fc4ee0da0ced69/torch/nn/modules/normalization.py#L10"
   ]
  },
  {
   "cell_type": "code",
   "execution_count": 9,
   "metadata": {},
   "outputs": [],
   "source": [
    "lrn = nn.LocalResponseNorm(2)\n",
    "signal_2d = torch.randn(2, 2, 2, 4)\n",
    "output_2d = lrn(signal_2d)"
   ]
  },
  {
   "cell_type": "code",
   "execution_count": 10,
   "metadata": {},
   "outputs": [
    {
     "name": "stdout",
     "output_type": "stream",
     "text": [
      "signal_2d: tensor([[[[ 0.4992,  1.2629, -0.0082,  0.4857],\n",
      "          [ 0.0188,  0.2765, -0.4137,  1.1556]],\n",
      "\n",
      "         [[ 0.7359,  1.3797, -0.3224, -0.8392],\n",
      "          [-0.7564, -1.1753,  1.1643,  0.0586]]],\n",
      "\n",
      "\n",
      "        [[[ 0.0375,  0.3952,  0.3483, -0.5367],\n",
      "          [-0.6039, -1.7000, -1.0310, -0.2094]],\n",
      "\n",
      "         [[ 0.3887,  0.1753, -1.2007, -0.3255],\n",
      "          [ 0.9617,  1.1281,  0.1411,  0.1444]]]])\n",
      "\n",
      "After ...\n",
      "\n",
      "output_2d: tensor([[[[ 0.4992,  1.2628, -0.0082,  0.4857],\n",
      "          [ 0.0188,  0.2765, -0.4137,  1.1555]],\n",
      "\n",
      "         [[ 0.7358,  1.3796, -0.3224, -0.8391],\n",
      "          [-0.7564, -1.1752,  1.1643,  0.0586]]],\n",
      "\n",
      "\n",
      "        [[[ 0.0375,  0.3952,  0.3483, -0.5367],\n",
      "          [-0.6039, -1.6998, -1.0309, -0.2094]],\n",
      "\n",
      "         [[ 0.3887,  0.1753, -1.2006, -0.3255],\n",
      "          [ 0.9616,  1.1279,  0.1411,  0.1444]]]])\n"
     ]
    }
   ],
   "source": [
    "print(\"signal_2d:\",signal_2d)\n",
    "print(\"\\nAfter ...\\n\")\n",
    "print(\"output_2d:\",output_2d)"
   ]
  },
  {
   "cell_type": "code",
   "execution_count": 11,
   "metadata": {},
   "outputs": [
    {
     "data": {
      "text/plain": [
       "tensor([[[[ 0.4992,  1.2628, -0.0082,  0.4857],\n",
       "          [ 0.0188,  0.2765, -0.4137,  1.1555]],\n",
       "\n",
       "         [[ 0.7358,  1.3796, -0.3224, -0.8391],\n",
       "          [-0.7564, -1.1752,  1.1643,  0.0586]]],\n",
       "\n",
       "\n",
       "        [[[ 0.0375,  0.3952,  0.3483, -0.5367],\n",
       "          [-0.6039, -1.6998, -1.0309, -0.2094]],\n",
       "\n",
       "         [[ 0.3887,  0.1753, -1.2006, -0.3255],\n",
       "          [ 0.9616,  1.1279,  0.1411,  0.1444]]]])"
      ]
     },
     "execution_count": 11,
     "metadata": {},
     "output_type": "execute_result"
    }
   ],
   "source": [
    "output_2d_norm = torch.nn.functional.local_response_norm(signal_2d, 2, alpha=0.0001, beta=0.75, k=1.0)\n",
    "output_2d_norm"
   ]
  },
  {
   "cell_type": "markdown",
   "metadata": {},
   "source": [
    "# Torch.from_numpy"
   ]
  },
  {
   "cell_type": "code",
   "execution_count": 12,
   "metadata": {},
   "outputs": [],
   "source": [
    "a = np.array([1, 2, 3])"
   ]
  },
  {
   "cell_type": "markdown",
   "metadata": {},
   "source": [
    "We can see that the t is converted to Tensor from np.array."
   ]
  },
  {
   "cell_type": "code",
   "execution_count": 13,
   "metadata": {},
   "outputs": [
    {
     "data": {
      "text/plain": [
       "tensor([1, 2, 3])"
      ]
     },
     "execution_count": 13,
     "metadata": {},
     "output_type": "execute_result"
    }
   ],
   "source": [
    "t = torch.from_numpy(a)\n",
    "t"
   ]
  },
  {
   "cell_type": "markdown",
   "metadata": {},
   "source": [
    "If we modify the element in `t`, the `a` will also be changed."
   ]
  },
  {
   "cell_type": "code",
   "execution_count": 14,
   "metadata": {},
   "outputs": [
    {
     "data": {
      "text/plain": [
       "array([-1,  2,  3])"
      ]
     },
     "execution_count": 14,
     "metadata": {},
     "output_type": "execute_result"
    }
   ],
   "source": [
    "t[0] = -1\n",
    "a"
   ]
  },
  {
   "cell_type": "markdown",
   "metadata": {},
   "source": [
    "# Torch.cuda.empty_cache()"
   ]
  },
  {
   "cell_type": "code",
   "execution_count": 15,
   "metadata": {},
   "outputs": [],
   "source": [
    "device = torch.device('cuda:0')\n",
    "# Define two tensors\n",
    "dummy_tensor_1 = torch.randn(120, 3, 512, 512).float().to(device)  # 120*3*512*512*4/1000/1000 = 377.48M\n",
    "dummy_tensor_2 = torch.randn(80, 3, 512, 512).float().to(device)  # 80*3*512*512*4/1000/1000 = 251.64M"
   ]
  },
  {
   "cell_type": "code",
   "execution_count": 16,
   "metadata": {},
   "outputs": [],
   "source": [
    "# Release\n",
    "dummy_tensor_1 = dummy_tensor_1.cpu()\n",
    "dummy_tensor_2 = dummy_tensor_2.cpu()\n",
    "\n",
    "torch.cuda.empty_cache()"
   ]
  },
  {
   "cell_type": "markdown",
   "metadata": {},
   "source": [
    "# named_children & named_modules\n",
    "source: https://blog.csdn.net/watermelon1123/article/details/98036360"
   ]
  },
  {
   "cell_type": "code",
   "execution_count": 17,
   "metadata": {},
   "outputs": [],
   "source": [
    "class TestModule(nn.Module):\n",
    "    def __init__(self):\n",
    "        super(TestModule,self).__init__()\n",
    "        self.layer1 = nn.Sequential(\n",
    "            nn.Conv2d(16,32,3,1),\n",
    "            nn.ReLU(inplace=True)\n",
    "        )\n",
    "        self.layer2 = nn.Sequential(nn.Linear(32,10))\n",
    "        \n",
    "    def forward(self,x):\n",
    "        x = self.layer1(x)\n",
    "        x = self.layer2(x)"
   ]
  },
  {
   "cell_type": "code",
   "execution_count": 18,
   "metadata": {},
   "outputs": [
    {
     "name": "stdout",
     "output_type": "stream",
     "text": [
      "children module: layer1\n",
      "children module: layer2\n"
     ]
    }
   ],
   "source": [
    "model = TestModule()\n",
    " \n",
    "for name, module in model.named_children():\n",
    "    print('children module:', name)"
   ]
  },
  {
   "cell_type": "code",
   "execution_count": 19,
   "metadata": {},
   "outputs": [
    {
     "name": "stdout",
     "output_type": "stream",
     "text": [
      "modules: \n",
      "modules: layer1\n",
      "modules: layer1.0\n",
      "modules: layer1.1\n",
      "modules: layer2\n",
      "modules: layer2.0\n"
     ]
    }
   ],
   "source": [
    "for name, module in model.named_modules():\n",
    "    print('modules:', name)"
   ]
  },
  {
   "cell_type": "markdown",
   "metadata": {},
   "source": [
    "# view funtion with -1"
   ]
  },
  {
   "cell_type": "code",
   "execution_count": 20,
   "metadata": {},
   "outputs": [
    {
     "data": {
      "text/plain": [
       "tensor([ 1,  2,  3,  4,  5,  6,  7,  8,  9, 10, 11, 12, 13, 14, 15, 16])"
      ]
     },
     "execution_count": 20,
     "metadata": {},
     "output_type": "execute_result"
    }
   ],
   "source": [
    "a = torch.arange(1, 17)  # a's shape is (16,)\n",
    "a"
   ]
  },
  {
   "cell_type": "code",
   "execution_count": 21,
   "metadata": {},
   "outputs": [
    {
     "data": {
      "text/plain": [
       "tensor([[ 1,  2,  3,  4],\n",
       "        [ 5,  6,  7,  8],\n",
       "        [ 9, 10, 11, 12],\n",
       "        [13, 14, 15, 16]])"
      ]
     },
     "execution_count": 21,
     "metadata": {},
     "output_type": "execute_result"
    }
   ],
   "source": [
    "a.view(4, 4) # output below"
   ]
  },
  {
   "cell_type": "code",
   "execution_count": 22,
   "metadata": {},
   "outputs": [
    {
     "data": {
      "text/plain": [
       "tensor([[[ 1,  2,  3,  4],\n",
       "         [ 5,  6,  7,  8]],\n",
       "\n",
       "        [[ 9, 10, 11, 12],\n",
       "         [13, 14, 15, 16]]])"
      ]
     },
     "execution_count": 22,
     "metadata": {},
     "output_type": "execute_result"
    }
   ],
   "source": [
    "a.view(2, 2, 4) # output below"
   ]
  },
  {
   "cell_type": "code",
   "execution_count": 23,
   "metadata": {},
   "outputs": [
    {
     "name": "stdout",
     "output_type": "stream",
     "text": [
      "a.size(0) 16\n"
     ]
    },
    {
     "data": {
      "text/plain": [
       "tensor([[ 1],\n",
       "        [ 2],\n",
       "        [ 3],\n",
       "        [ 4],\n",
       "        [ 5],\n",
       "        [ 6],\n",
       "        [ 7],\n",
       "        [ 8],\n",
       "        [ 9],\n",
       "        [10],\n",
       "        [11],\n",
       "        [12],\n",
       "        [13],\n",
       "        [14],\n",
       "        [15],\n",
       "        [16]])"
      ]
     },
     "execution_count": 23,
     "metadata": {},
     "output_type": "execute_result"
    }
   ],
   "source": [
    "print(\"a.size(0)\",a.size(0))\n",
    "a.view(a.size(0), -1)"
   ]
  }
 ],
 "metadata": {
  "kernelspec": {
   "display_name": "Python 3.6.9 64-bit",
   "language": "python",
   "name": "python36964bit295e9b82c93c4b1b9da023fa41933fbd"
  },
  "language_info": {
   "codemirror_mode": {
    "name": "ipython",
    "version": 3
   },
   "file_extension": ".py",
   "mimetype": "text/x-python",
   "name": "python",
   "nbconvert_exporter": "python",
   "pygments_lexer": "ipython3",
   "version": "3.6.9"
  }
 },
 "nbformat": 4,
 "nbformat_minor": 2
}
