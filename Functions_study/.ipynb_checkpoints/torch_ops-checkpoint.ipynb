{
 "cells": [
  {
   "cell_type": "markdown",
   "metadata": {},
   "source": [
    "# Operation test"
   ]
  },
  {
   "cell_type": "code",
   "execution_count": 1,
   "metadata": {},
   "outputs": [],
   "source": [
    "import torch\n",
    "import torch.nn as nn\n",
    "import torch.nn.functional as F"
   ]
  },
  {
   "cell_type": "markdown",
   "metadata": {},
   "source": [
    "## Torch.topk"
   ]
  },
  {
   "cell_type": "code",
   "execution_count": 2,
   "metadata": {},
   "outputs": [],
   "source": [
    "output = torch.tensor([[-5.415, 0.4227],\n",
    "                           [-4.2153, -0.4337],\n",
    "                           [-0.1972, -5.1387],\n",
    "                           [-0.1829, -4.9819]])"
   ]
  },
  {
   "cell_type": "code",
   "execution_count": 3,
   "metadata": {},
   "outputs": [],
   "source": [
    "maxk = max((1,))\n",
    "_, pred = output.topk(maxk, 1, True, True)"
   ]
  },
  {
   "cell_type": "code",
   "execution_count": 4,
   "metadata": {},
   "outputs": [
    {
     "data": {
      "text/plain": [
       "tensor([[ 0.4227],\n",
       "        [-0.4337],\n",
       "        [-0.1972],\n",
       "        [-0.1829]])"
      ]
     },
     "execution_count": 4,
     "metadata": {},
     "output_type": "execute_result"
    }
   ],
   "source": [
    "_"
   ]
  },
  {
   "cell_type": "code",
   "execution_count": 5,
   "metadata": {},
   "outputs": [
    {
     "data": {
      "text/plain": [
       "tensor([[1],\n",
       "        [1],\n",
       "        [0],\n",
       "        [0]])"
      ]
     },
     "execution_count": 5,
     "metadata": {},
     "output_type": "execute_result"
    }
   ],
   "source": [
    "pred"
   ]
  },
  {
   "cell_type": "markdown",
   "metadata": {},
   "source": [
    "## Torch.cat"
   ]
  },
  {
   "cell_type": "code",
   "execution_count": 6,
   "metadata": {},
   "outputs": [
    {
     "name": "stdout",
     "output_type": "stream",
     "text": [
      "a: tensor([[1., 1., 1.]])\n",
      "b: tensor([[0., 0.]])\n",
      "b: tensor([[0., 0., 0.]])\n"
     ]
    }
   ],
   "source": [
    "a = torch.ones([1, 3])\n",
    "b = torch.zeros([1, 2])\n",
    "c = torch.zeros([1, 3])\n",
    "print(\"a:\",a)\n",
    "print(\"b:\",b)\n",
    "print(\"b:\",c)"
   ]
  },
  {
   "cell_type": "code",
   "execution_count": 7,
   "metadata": {},
   "outputs": [
    {
     "name": "stdout",
     "output_type": "stream",
     "text": [
      "tensor([[1., 1., 1., 0., 0.]])\n"
     ]
    }
   ],
   "source": [
    "print(torch.cat([a, b], 1))"
   ]
  },
  {
   "cell_type": "code",
   "execution_count": 8,
   "metadata": {},
   "outputs": [
    {
     "name": "stdout",
     "output_type": "stream",
     "text": [
      "tensor([[1., 1., 1.],\n",
      "        [0., 0., 0.]])\n"
     ]
    }
   ],
   "source": [
    "print(torch.cat([a, c], 0))"
   ]
  },
  {
   "cell_type": "markdown",
   "metadata": {},
   "source": [
    "## LocalResponseNorm\n",
    "Check here : https://github.com/pytorch/pytorch/blob/dcfc121fd792393205104a9f07fc4ee0da0ced69/torch/nn/modules/normalization.py#L10"
   ]
  },
  {
   "cell_type": "code",
   "execution_count": 9,
   "metadata": {},
   "outputs": [],
   "source": [
    "lrn = nn.LocalResponseNorm(2)\n",
    "signal_2d = torch.randn(2, 2, 2, 4)\n",
    "output_2d = lrn(signal_2d)"
   ]
  },
  {
   "cell_type": "code",
   "execution_count": 10,
   "metadata": {},
   "outputs": [
    {
     "name": "stdout",
     "output_type": "stream",
     "text": [
      "signal_2d: tensor([[[[-1.5643e+00, -4.3870e-01,  8.5277e-01, -6.0350e-04],\n",
      "          [ 1.3841e+00, -1.4011e+00,  1.4052e+00,  2.2986e+00]],\n",
      "\n",
      "         [[-6.3327e-01, -1.9680e+00,  1.5284e-01,  1.4171e+00],\n",
      "          [-2.3226e-01,  7.0436e-01, -3.4351e-01,  1.8439e-01]]],\n",
      "\n",
      "\n",
      "        [[[ 8.0034e-01, -5.4223e-01, -3.6704e-01, -1.0008e+00],\n",
      "          [-7.3729e-01, -1.1249e+00, -6.7643e-01, -2.2108e+00]],\n",
      "\n",
      "         [[ 2.1660e+00, -1.2783e-01, -1.0032e+00,  7.4064e-01],\n",
      "          [ 4.0207e-01, -1.1306e+00,  1.9505e+00,  2.2488e-01]]]])\n",
      "\n",
      "After ...\n",
      "\n",
      "output_2d: tensor([[[[-1.5641e+00, -4.3870e-01,  8.5275e-01, -6.0350e-04],\n",
      "          [ 1.3840e+00, -1.4010e+00,  1.4051e+00,  2.2981e+00]],\n",
      "\n",
      "         [[-6.3320e-01, -1.9677e+00,  1.5284e-01,  1.4170e+00],\n",
      "          [-2.3224e-01,  7.0429e-01, -3.4348e-01,  1.8435e-01]]],\n",
      "\n",
      "\n",
      "        [[[ 8.0032e-01, -5.4222e-01, -3.6704e-01, -1.0008e+00],\n",
      "          [-7.3727e-01, -1.1248e+00, -6.7642e-01, -2.2104e+00]],\n",
      "\n",
      "         [[ 2.1656e+00, -1.2783e-01, -1.0032e+00,  7.4060e-01],\n",
      "          [ 4.0206e-01, -1.1305e+00,  1.9502e+00,  2.2484e-01]]]])\n"
     ]
    }
   ],
   "source": [
    "print(\"signal_2d:\",signal_2d)\n",
    "print(\"\\nAfter ...\\n\")\n",
    "print(\"output_2d:\",output_2d)"
   ]
  },
  {
   "cell_type": "code",
   "execution_count": 11,
   "metadata": {},
   "outputs": [
    {
     "data": {
      "text/plain": [
       "tensor([[[[-1.5641e+00, -4.3870e-01,  8.5275e-01, -6.0350e-04],\n",
       "          [ 1.3840e+00, -1.4010e+00,  1.4051e+00,  2.2981e+00]],\n",
       "\n",
       "         [[-6.3320e-01, -1.9677e+00,  1.5284e-01,  1.4170e+00],\n",
       "          [-2.3224e-01,  7.0429e-01, -3.4348e-01,  1.8435e-01]]],\n",
       "\n",
       "\n",
       "        [[[ 8.0032e-01, -5.4222e-01, -3.6704e-01, -1.0008e+00],\n",
       "          [-7.3727e-01, -1.1248e+00, -6.7642e-01, -2.2104e+00]],\n",
       "\n",
       "         [[ 2.1656e+00, -1.2783e-01, -1.0032e+00,  7.4060e-01],\n",
       "          [ 4.0206e-01, -1.1305e+00,  1.9502e+00,  2.2484e-01]]]])"
      ]
     },
     "execution_count": 11,
     "metadata": {},
     "output_type": "execute_result"
    }
   ],
   "source": [
    "output_2d_norm = torch.nn.functional.local_response_norm(signal_2d, 2, alpha=0.0001, beta=0.75, k=1.0)\n",
    "output_2d_norm"
   ]
  }
 ],
 "metadata": {
  "kernelspec": {
   "display_name": "Python 3.6.9 64-bit",
   "language": "python",
   "name": "python36964bit295e9b82c93c4b1b9da023fa41933fbd"
  },
  "language_info": {
   "codemirror_mode": {
    "name": "ipython",
    "version": 3
   },
   "file_extension": ".py",
   "mimetype": "text/x-python",
   "name": "python",
   "nbconvert_exporter": "python",
   "pygments_lexer": "ipython3",
   "version": "3.6.9"
  }
 },
 "nbformat": 4,
 "nbformat_minor": 2
}
