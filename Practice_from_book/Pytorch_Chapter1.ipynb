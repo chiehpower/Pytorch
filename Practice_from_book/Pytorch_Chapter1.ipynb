{
  "nbformat": 4,
  "nbformat_minor": 0,
  "metadata": {
    "colab": {
      "name": "Pytorch_Chapter1.ipynb",
      "provenance": []
    },
    "kernelspec": {
      "name": "python3",
      "display_name": "Python 3"
    },
    "accelerator": "GPU"
  },
  "cells": [
    {
      "cell_type": "code",
      "metadata": {
        "id": "jNOkDr00xb0B",
        "colab_type": "code",
        "outputId": "48424794-970b-4fdd-e15d-5956f698115a",
        "colab": {
          "base_uri": "https://localhost:8080/",
          "height": 68
        }
      },
      "source": [
        "import torch \n",
        "print(torch.cuda.is_available())\n",
        "print(torch.rand(2,2))"
      ],
      "execution_count": 2,
      "outputs": [
        {
          "output_type": "stream",
          "text": [
            "True\n",
            "tensor([[0.0406, 0.5329],\n",
            "        [0.9292, 0.2647]])\n"
          ],
          "name": "stdout"
        }
      ]
    },
    {
      "cell_type": "markdown",
      "metadata": {
        "id": "nggLHLv31rum",
        "colab_type": "text"
      },
      "source": [
        "# Tensor Method"
      ]
    },
    {
      "cell_type": "code",
      "metadata": {
        "id": "os1WA9Sxyxb2",
        "colab_type": "code",
        "outputId": "6980d89a-2ab1-4f5f-fd3e-32a876a0b263",
        "colab": {
          "base_uri": "https://localhost:8080/",
          "height": 68
        }
      },
      "source": [
        "x = torch.tensor([[1,2,3],[2,3,4],[3,4,5]])\n",
        "x"
      ],
      "execution_count": 3,
      "outputs": [
        {
          "output_type": "execute_result",
          "data": {
            "text/plain": [
              "tensor([[1, 2, 3],\n",
              "        [2, 3, 4],\n",
              "        [3, 4, 5]])"
            ]
          },
          "metadata": {
            "tags": []
          },
          "execution_count": 3
        }
      ]
    },
    {
      "cell_type": "code",
      "metadata": {
        "id": "BDqb1i7r1iZe",
        "colab_type": "code",
        "outputId": "48306199-f4df-4452-dd4f-0877df9336a7",
        "colab": {
          "base_uri": "https://localhost:8080/",
          "height": 68
        }
      },
      "source": [
        "x[0][0] = 4\n",
        "x"
      ],
      "execution_count": 4,
      "outputs": [
        {
          "output_type": "execute_result",
          "data": {
            "text/plain": [
              "tensor([[4, 2, 3],\n",
              "        [2, 3, 4],\n",
              "        [3, 4, 5]])"
            ]
          },
          "metadata": {
            "tags": []
          },
          "execution_count": 4
        }
      ]
    },
    {
      "cell_type": "markdown",
      "metadata": {
        "id": "O3iFyziE1wQ2",
        "colab_type": "text"
      },
      "source": [
        "# .Zeros() and .ones()\n"
      ]
    },
    {
      "cell_type": "code",
      "metadata": {
        "id": "AuOgsPtq1nnC",
        "colab_type": "code",
        "outputId": "d2111a2c-5b61-4b3f-9b04-e31850f0bb91",
        "colab": {
          "base_uri": "https://localhost:8080/",
          "height": 51
        }
      },
      "source": [
        "torch.zeros(2,2)"
      ],
      "execution_count": 5,
      "outputs": [
        {
          "output_type": "execute_result",
          "data": {
            "text/plain": [
              "tensor([[0., 0.],\n",
              "        [0., 0.]])"
            ]
          },
          "metadata": {
            "tags": []
          },
          "execution_count": 5
        }
      ]
    },
    {
      "cell_type": "code",
      "metadata": {
        "id": "RQY_3jqU1870",
        "colab_type": "code",
        "outputId": "e7392a96-60d7-4b7f-b551-9379f0d0b060",
        "colab": {
          "base_uri": "https://localhost:8080/",
          "height": 51
        }
      },
      "source": [
        "torch.ones(2,2)"
      ],
      "execution_count": 6,
      "outputs": [
        {
          "output_type": "execute_result",
          "data": {
            "text/plain": [
              "tensor([[1., 1.],\n",
              "        [1., 1.]])"
            ]
          },
          "metadata": {
            "tags": []
          },
          "execution_count": 6
        }
      ]
    },
    {
      "cell_type": "markdown",
      "metadata": {
        "id": "d-R_V5P0mmaT",
        "colab_type": "text"
      },
      "source": [
        "# .item()"
      ]
    },
    {
      "cell_type": "code",
      "metadata": {
        "id": "7Dhb9wvt1_7O",
        "colab_type": "code",
        "colab": {
          "base_uri": "https://localhost:8080/",
          "height": 68
        },
        "outputId": "6148dc08-68c8-4188-9641-797377d0f17b"
      },
      "source": [
        "torch.ones(3,2)+ torch.ones(3,2)"
      ],
      "execution_count": 7,
      "outputs": [
        {
          "output_type": "execute_result",
          "data": {
            "text/plain": [
              "tensor([[2., 2.],\n",
              "        [2., 2.],\n",
              "        [2., 2.]])"
            ]
          },
          "metadata": {
            "tags": []
          },
          "execution_count": 7
        }
      ]
    },
    {
      "cell_type": "code",
      "metadata": {
        "id": "WDn4U-qwl3U8",
        "colab_type": "code",
        "colab": {
          "base_uri": "https://localhost:8080/",
          "height": 34
        },
        "outputId": "d73c57c1-4a55-43d8-d7a7-f4bfe1728b07"
      },
      "source": [
        "A = torch.rand(1)\n",
        "A"
      ],
      "execution_count": 13,
      "outputs": [
        {
          "output_type": "execute_result",
          "data": {
            "text/plain": [
              "tensor([0.4345])"
            ]
          },
          "metadata": {
            "tags": []
          },
          "execution_count": 13
        }
      ]
    },
    {
      "cell_type": "code",
      "metadata": {
        "id": "qwxiikudmb6K",
        "colab_type": "code",
        "colab": {
          "base_uri": "https://localhost:8080/",
          "height": 34
        },
        "outputId": "0578172a-a444-4693-b0c2-3c77f0bc4a86"
      },
      "source": [
        "A.item()"
      ],
      "execution_count": 14,
      "outputs": [
        {
          "output_type": "execute_result",
          "data": {
            "text/plain": [
              "0.43449127674102783"
            ]
          },
          "metadata": {
            "tags": []
          },
          "execution_count": 14
        }
      ]
    },
    {
      "cell_type": "markdown",
      "metadata": {
        "id": "Q91T0bRLmu96",
        "colab_type": "text"
      },
      "source": [
        "# .device"
      ]
    },
    {
      "cell_type": "code",
      "metadata": {
        "id": "cS2hr00MmedG",
        "colab_type": "code",
        "colab": {
          "base_uri": "https://localhost:8080/",
          "height": 34
        },
        "outputId": "57da02b2-4d14-4cfd-d10a-9ed16dbab003"
      },
      "source": [
        "A.device"
      ],
      "execution_count": 15,
      "outputs": [
        {
          "output_type": "execute_result",
          "data": {
            "text/plain": [
              "device(type='cpu')"
            ]
          },
          "metadata": {
            "tags": []
          },
          "execution_count": 15
        }
      ]
    },
    {
      "cell_type": "markdown",
      "metadata": {
        "id": "r1GkXWCDm3Hx",
        "colab_type": "text"
      },
      "source": [
        "# Change the device from CPU to GPU"
      ]
    },
    {
      "cell_type": "code",
      "metadata": {
        "id": "Xyul0l6FmzDW",
        "colab_type": "code",
        "colab": {}
      },
      "source": [
        "A_GPU = A.to(\"cuda\")"
      ],
      "execution_count": 0,
      "outputs": []
    },
    {
      "cell_type": "code",
      "metadata": {
        "id": "BKxb9oFVm-0t",
        "colab_type": "code",
        "colab": {
          "base_uri": "https://localhost:8080/",
          "height": 34
        },
        "outputId": "a077c20e-69d4-4621-9bfe-fdee06cb4c75"
      },
      "source": [
        "A_GPU.device"
      ],
      "execution_count": 18,
      "outputs": [
        {
          "output_type": "execute_result",
          "data": {
            "text/plain": [
              "device(type='cuda', index=0)"
            ]
          },
          "metadata": {
            "tags": []
          },
          "execution_count": 18
        }
      ]
    },
    {
      "cell_type": "markdown",
      "metadata": {
        "id": "CUoBmEFNnQZX",
        "colab_type": "text"
      },
      "source": [
        "# Tensor Operations\n"
      ]
    },
    {
      "cell_type": "code",
      "metadata": {
        "id": "BCa2tP9OnDBf",
        "colab_type": "code",
        "colab": {
          "base_uri": "https://localhost:8080/",
          "height": 85
        },
        "outputId": "bd6512e2-68cb-4981-9a51-3ade0e0915f7"
      },
      "source": [
        "B = torch.rand(3,3)\n",
        "print(\"B :\",B)\n",
        "print(\"B.max() :\",B.max())"
      ],
      "execution_count": 23,
      "outputs": [
        {
          "output_type": "stream",
          "text": [
            "B : tensor([[0.1645, 0.2849, 0.2653],\n",
            "        [0.9675, 0.6427, 0.3756],\n",
            "        [0.5397, 0.9079, 0.0162]])\n",
            "B.max() : tensor(0.9675)\n"
          ],
          "name": "stdout"
        }
      ]
    },
    {
      "cell_type": "code",
      "metadata": {
        "id": "3fHzWW1WnNEW",
        "colab_type": "code",
        "colab": {
          "base_uri": "https://localhost:8080/",
          "height": 34
        },
        "outputId": "dc4e38df-e26d-4866-ed76-84662256c71d"
      },
      "source": [
        "print(\"B.max().item() :\",B.max().item())"
      ],
      "execution_count": 26,
      "outputs": [
        {
          "output_type": "stream",
          "text": [
            "B.max().item() : 0.9675191640853882\n"
          ],
          "name": "stdout"
        }
      ]
    },
    {
      "cell_type": "markdown",
      "metadata": {
        "id": "Eib5JHRnpYwl",
        "colab_type": "text"
      },
      "source": [
        "# Change the type"
      ]
    },
    {
      "cell_type": "code",
      "metadata": {
        "id": "8s7BvsWgo_F9",
        "colab_type": "code",
        "colab": {
          "base_uri": "https://localhost:8080/",
          "height": 68
        },
        "outputId": "8e3e27a3-749a-47f3-d926-b16a381f01a2"
      },
      "source": [
        "LongType = torch.tensor([[1,2,3],[2,3,4],[3,4,5]])\n",
        "LongType"
      ],
      "execution_count": 27,
      "outputs": [
        {
          "output_type": "execute_result",
          "data": {
            "text/plain": [
              "tensor([[1, 2, 3],\n",
              "        [2, 3, 4],\n",
              "        [3, 4, 5]])"
            ]
          },
          "metadata": {
            "tags": []
          },
          "execution_count": 27
        }
      ]
    },
    {
      "cell_type": "markdown",
      "metadata": {
        "id": "83faDPNpplGF",
        "colab_type": "text"
      },
      "source": [
        "## .type()"
      ]
    },
    {
      "cell_type": "code",
      "metadata": {
        "id": "rzSPOLVfpgFN",
        "colab_type": "code",
        "colab": {
          "base_uri": "https://localhost:8080/",
          "height": 34
        },
        "outputId": "0735c83f-4d07-4cb6-ead8-f7c38ebf1ec2"
      },
      "source": [
        "LongType.type()"
      ],
      "execution_count": 28,
      "outputs": [
        {
          "output_type": "execute_result",
          "data": {
            "text/plain": [
              "'torch.LongTensor'"
            ]
          },
          "metadata": {
            "tags": []
          },
          "execution_count": 28
        }
      ]
    },
    {
      "cell_type": "code",
      "metadata": {
        "id": "QDI9CpunpkUq",
        "colab_type": "code",
        "colab": {
          "base_uri": "https://localhost:8080/",
          "height": 68
        },
        "outputId": "182a424f-8054-4292-a0b7-f1d98c1ec448"
      },
      "source": [
        "ShortType = LongType.to(dtype = torch.float32)\n",
        "ShortType"
      ],
      "execution_count": 30,
      "outputs": [
        {
          "output_type": "execute_result",
          "data": {
            "text/plain": [
              "tensor([[1., 2., 3.],\n",
              "        [2., 3., 4.],\n",
              "        [3., 4., 5.]])"
            ]
          },
          "metadata": {
            "tags": []
          },
          "execution_count": 30
        }
      ]
    },
    {
      "cell_type": "code",
      "metadata": {
        "id": "KUfOKOy_pv56",
        "colab_type": "code",
        "colab": {
          "base_uri": "https://localhost:8080/",
          "height": 34
        },
        "outputId": "c8064f12-1a37-456d-b23a-51cea9645532"
      },
      "source": [
        "ShortType.type()"
      ],
      "execution_count": 31,
      "outputs": [
        {
          "output_type": "execute_result",
          "data": {
            "text/plain": [
              "'torch.FloatTensor'"
            ]
          },
          "metadata": {
            "tags": []
          },
          "execution_count": 31
        }
      ]
    },
    {
      "cell_type": "markdown",
      "metadata": {
        "id": "F39LnePtrSWj",
        "colab_type": "text"
      },
      "source": [
        "# underscore(_)"
      ]
    },
    {
      "cell_type": "code",
      "metadata": {
        "id": "hJvgw-skp09g",
        "colab_type": "code",
        "colab": {}
      },
      "source": [
        "C = torch.rand(3,3)"
      ],
      "execution_count": 0,
      "outputs": []
    },
    {
      "cell_type": "code",
      "metadata": {
        "id": "EfZnAZn3s2A7",
        "colab_type": "code",
        "colab": {
          "base_uri": "https://localhost:8080/",
          "height": 68
        },
        "outputId": "95ac01cf-e39f-4762-9e3f-8de4dbc3fdb3"
      },
      "source": [
        "C.log2()"
      ],
      "execution_count": 34,
      "outputs": [
        {
          "output_type": "execute_result",
          "data": {
            "text/plain": [
              "tensor([[-4.3960, -2.0984, -0.8201],\n",
              "        [-3.8324, -8.1745, -0.5909],\n",
              "        [-0.5238, -3.0697, -1.5849]])"
            ]
          },
          "metadata": {
            "tags": []
          },
          "execution_count": 34
        }
      ]
    },
    {
      "cell_type": "code",
      "metadata": {
        "id": "4EIG-iDK3s7F",
        "colab_type": "code",
        "colab": {
          "base_uri": "https://localhost:8080/",
          "height": 68
        },
        "outputId": "2833b1dc-827a-438d-ea30-6a90e4586031"
      },
      "source": [
        "C.log2_()"
      ],
      "execution_count": 35,
      "outputs": [
        {
          "output_type": "execute_result",
          "data": {
            "text/plain": [
              "tensor([[-4.3960, -2.0984, -0.8201],\n",
              "        [-3.8324, -8.1745, -0.5909],\n",
              "        [-0.5238, -3.0697, -1.5849]])"
            ]
          },
          "metadata": {
            "tags": []
          },
          "execution_count": 35
        }
      ]
    },
    {
      "cell_type": "markdown",
      "metadata": {
        "id": "4z67DsqX4GBr",
        "colab_type": "text"
      },
      "source": [
        "# Reshape() VS view(), and contiguous()"
      ]
    },
    {
      "cell_type": "code",
      "metadata": {
        "id": "SNPJ3SX-3wPL",
        "colab_type": "code",
        "colab": {}
      },
      "source": [
        "flat = torch.rand(784)"
      ],
      "execution_count": 0,
      "outputs": []
    },
    {
      "cell_type": "code",
      "metadata": {
        "id": "hwpdJLbm4NqD",
        "colab_type": "code",
        "colab": {
          "base_uri": "https://localhost:8080/",
          "height": 34
        },
        "outputId": "0191b7e5-dd0e-4cad-faf1-76e5fe793bd6"
      },
      "source": [
        "viewed_tensor = flat.view(1,28,28)\n",
        "viewed_tensor.shape"
      ],
      "execution_count": 38,
      "outputs": [
        {
          "output_type": "execute_result",
          "data": {
            "text/plain": [
              "torch.Size([1, 28, 28])"
            ]
          },
          "metadata": {
            "tags": []
          },
          "execution_count": 38
        }
      ]
    },
    {
      "cell_type": "code",
      "metadata": {
        "id": "JejTa0694R7C",
        "colab_type": "code",
        "colab": {
          "base_uri": "https://localhost:8080/",
          "height": 34
        },
        "outputId": "7d21cd3d-ed5e-4814-f233-a6a40bdc4b86"
      },
      "source": [
        "reshaped_tensor = flat.reshape(1,28,28)\n",
        "reshaped_tensor.shape"
      ],
      "execution_count": 39,
      "outputs": [
        {
          "output_type": "execute_result",
          "data": {
            "text/plain": [
              "torch.Size([1, 28, 28])"
            ]
          },
          "metadata": {
            "tags": []
          },
          "execution_count": 39
        }
      ]
    },
    {
      "cell_type": "markdown",
      "metadata": {
        "id": "4tQY8bGj5Iie",
        "colab_type": "text"
      },
      "source": [
        "if you use reshape funciton, you have to have the same number of total elements as the original. \n",
        "```\n",
        "1*28*28 == 784\n",
        "```"
      ]
    },
    {
      "cell_type": "markdown",
      "metadata": {
        "id": "a4lBKVLh8Non",
        "colab_type": "text"
      },
      "source": [
        "Maybe we could say \n",
        "```\n",
        "tensor.reshape() = tensor.contiguous().view()\n",
        "```"
      ]
    },
    {
      "cell_type": "markdown",
      "metadata": {
        "id": "EjOMeXkF_Ej5",
        "colab_type": "text"
      },
      "source": [
        "# permute()"
      ]
    },
    {
      "cell_type": "code",
      "metadata": {
        "id": "-ZHzL-J7_F6C",
        "colab_type": "code",
        "colab": {
          "base_uri": "https://localhost:8080/",
          "height": 34
        },
        "outputId": "17920e9f-0887-4ad6-aa7e-c10c25d6431b"
      },
      "source": [
        "D = torch.rand(1,28,28)\n",
        "D.shape"
      ],
      "execution_count": 44,
      "outputs": [
        {
          "output_type": "execute_result",
          "data": {
            "text/plain": [
              "torch.Size([1, 28, 28])"
            ]
          },
          "metadata": {
            "tags": []
          },
          "execution_count": 44
        }
      ]
    },
    {
      "cell_type": "code",
      "metadata": {
        "id": "jB9xAn4J_PKv",
        "colab_type": "code",
        "colab": {}
      },
      "source": [
        "E = D.permute(2,1,0)"
      ],
      "execution_count": 0,
      "outputs": []
    },
    {
      "cell_type": "code",
      "metadata": {
        "id": "Wp4QmIpQ_WC9",
        "colab_type": "code",
        "colab": {
          "base_uri": "https://localhost:8080/",
          "height": 34
        },
        "outputId": "f38919f7-363d-4a66-c5f4-093b64e687d2"
      },
      "source": [
        "E.shape"
      ],
      "execution_count": 48,
      "outputs": [
        {
          "output_type": "execute_result",
          "data": {
            "text/plain": [
              "torch.Size([28, 28, 1])"
            ]
          },
          "metadata": {
            "tags": []
          },
          "execution_count": 48
        }
      ]
    },
    {
      "cell_type": "markdown",
      "metadata": {
        "id": "fiNB8RLE_jph",
        "colab_type": "text"
      },
      "source": [
        "This function is quite convenient!!"
      ]
    },
    {
      "cell_type": "markdown",
      "metadata": {
        "id": "EUE_oVoV_ti1",
        "colab_type": "text"
      },
      "source": [
        "**Another thing should be carefule about that pytorch perfers to deal with tensor in a [channel, height, width].\n",
        "It is different with Tensorflow.**"
      ]
    }
  ]
}