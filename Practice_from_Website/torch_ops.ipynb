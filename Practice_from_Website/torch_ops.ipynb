{
 "cells": [
  {
   "cell_type": "markdown",
   "metadata": {},
   "source": [
    "# Operation test"
   ]
  },
  {
   "cell_type": "code",
   "execution_count": 1,
   "metadata": {},
   "outputs": [],
   "source": [
    "import torch\n",
    "import torch.nn as nn\n",
    "import torch.nn.functional as F"
   ]
  },
  {
   "cell_type": "markdown",
   "metadata": {},
   "source": [
    "## Torch.topk"
   ]
  },
  {
   "cell_type": "code",
   "execution_count": 2,
   "metadata": {},
   "outputs": [],
   "source": [
    "output = torch.tensor([[-5.415, 0.4227],\n",
    "                           [-4.2153, -0.4337],\n",
    "                           [-0.1972, -5.1387],\n",
    "                           [-0.1829, -4.9819]])"
   ]
  },
  {
   "cell_type": "code",
   "execution_count": 3,
   "metadata": {},
   "outputs": [],
   "source": [
    "maxk = max((1,))\n",
    "_, pred = output.topk(maxk, 1, True, True)"
   ]
  },
  {
   "cell_type": "code",
   "execution_count": 4,
   "metadata": {},
   "outputs": [
    {
     "data": {
      "text/plain": [
       "tensor([[ 0.4227],\n",
       "        [-0.4337],\n",
       "        [-0.1972],\n",
       "        [-0.1829]])"
      ]
     },
     "execution_count": 4,
     "metadata": {},
     "output_type": "execute_result"
    }
   ],
   "source": [
    "_"
   ]
  },
  {
   "cell_type": "code",
   "execution_count": 5,
   "metadata": {},
   "outputs": [
    {
     "data": {
      "text/plain": [
       "tensor([[1],\n",
       "        [1],\n",
       "        [0],\n",
       "        [0]])"
      ]
     },
     "execution_count": 5,
     "metadata": {},
     "output_type": "execute_result"
    }
   ],
   "source": [
    "pred"
   ]
  },
  {
   "cell_type": "markdown",
   "metadata": {},
   "source": [
    "## Torch.cat"
   ]
  },
  {
   "cell_type": "code",
   "execution_count": 6,
   "metadata": {},
   "outputs": [
    {
     "name": "stdout",
     "output_type": "stream",
     "text": [
      "a: tensor([[1., 1., 1.]])\n",
      "b: tensor([[0., 0.]])\n",
      "b: tensor([[0., 0., 0.]])\n"
     ]
    }
   ],
   "source": [
    "a = torch.ones([1, 3])\n",
    "b = torch.zeros([1, 2])\n",
    "c = torch.zeros([1, 3])\n",
    "print(\"a:\",a)\n",
    "print(\"b:\",b)\n",
    "print(\"b:\",c)"
   ]
  },
  {
   "cell_type": "code",
   "execution_count": 7,
   "metadata": {},
   "outputs": [
    {
     "name": "stdout",
     "output_type": "stream",
     "text": [
      "tensor([[1., 1., 1., 0., 0.]])\n"
     ]
    }
   ],
   "source": [
    "print(torch.cat([a, b], 1))"
   ]
  },
  {
   "cell_type": "code",
   "execution_count": 8,
   "metadata": {},
   "outputs": [
    {
     "name": "stdout",
     "output_type": "stream",
     "text": [
      "tensor([[1., 1., 1.],\n",
      "        [0., 0., 0.]])\n"
     ]
    }
   ],
   "source": [
    "print(torch.cat([a, c], 0))"
   ]
  },
  {
   "cell_type": "markdown",
   "metadata": {},
   "source": [
    "## LocalResponseNorm\n",
    "Check here : https://github.com/pytorch/pytorch/blob/dcfc121fd792393205104a9f07fc4ee0da0ced69/torch/nn/modules/normalization.py#L10"
   ]
  },
  {
   "cell_type": "code",
   "execution_count": 9,
   "metadata": {},
   "outputs": [],
   "source": [
    "lrn = nn.LocalResponseNorm(2)\n",
    "signal_2d = torch.randn(2, 2, 2, 4)\n",
    "output_2d = lrn(signal_2d)"
   ]
  },
  {
   "cell_type": "code",
   "execution_count": 10,
   "metadata": {},
   "outputs": [
    {
     "name": "stdout",
     "output_type": "stream",
     "text": [
      "signal_2d: tensor([[[[ 0.7326,  0.2788,  0.8947,  1.4366],\n",
      "          [ 1.6765,  1.3023, -1.6579,  0.1953]],\n",
      "\n",
      "         [[-0.3328, -0.9956, -0.9203,  1.5893],\n",
      "          [-0.4099, -0.8439, -0.1187, -0.1558]]],\n",
      "\n",
      "\n",
      "        [[[ 1.3138, -0.4992,  0.3741, -0.0366],\n",
      "          [ 0.7841,  1.9723,  1.6017, -0.5818]],\n",
      "\n",
      "         [[-0.3153,  0.3414, -1.5202, -1.2288],\n",
      "          [-0.8745, -1.0803,  1.4397, -0.9804]]]])\n",
      "\n",
      "After ...\n",
      "\n",
      "output_2d: tensor([[[[ 0.7326,  0.2788,  0.8946,  1.4365],\n",
      "          [ 1.6763,  1.3022, -1.6577,  0.1953]],\n",
      "\n",
      "         [[-0.3328, -0.9956, -0.9202,  1.5890],\n",
      "          [-0.4099, -0.8439, -0.1187, -0.1558]]],\n",
      "\n",
      "\n",
      "        [[[ 1.3137, -0.4992,  0.3741, -0.0366],\n",
      "          [ 0.7841,  1.9720,  1.6015, -0.5818]],\n",
      "\n",
      "         [[-0.3152,  0.3414, -1.5200, -1.2288],\n",
      "          [-0.8745, -1.0801,  1.4394, -0.9804]]]])\n"
     ]
    }
   ],
   "source": [
    "print(\"signal_2d:\",signal_2d)\n",
    "print(\"\\nAfter ...\\n\")\n",
    "print(\"output_2d:\",output_2d)"
   ]
  },
  {
   "cell_type": "code",
   "execution_count": 11,
   "metadata": {},
   "outputs": [
    {
     "data": {
      "text/plain": [
       "tensor([[[[ 0.7326,  0.2788,  0.8946,  1.4365],\n",
       "          [ 1.6763,  1.3022, -1.6577,  0.1953]],\n",
       "\n",
       "         [[-0.3328, -0.9956, -0.9202,  1.5890],\n",
       "          [-0.4099, -0.8439, -0.1187, -0.1558]]],\n",
       "\n",
       "\n",
       "        [[[ 1.3137, -0.4992,  0.3741, -0.0366],\n",
       "          [ 0.7841,  1.9720,  1.6015, -0.5818]],\n",
       "\n",
       "         [[-0.3152,  0.3414, -1.5200, -1.2288],\n",
       "          [-0.8745, -1.0801,  1.4394, -0.9804]]]])"
      ]
     },
     "execution_count": 11,
     "metadata": {},
     "output_type": "execute_result"
    }
   ],
   "source": [
    "output_2d_norm = torch.nn.functional.local_response_norm(signal_2d, 2, alpha=0.0001, beta=0.75, k=1.0)\n",
    "output_2d_norm"
   ]
  }
 ],
 "metadata": {
  "kernelspec": {
   "display_name": "Python 3.6.9 64-bit",
   "language": "python",
   "name": "python36964bit295e9b82c93c4b1b9da023fa41933fbd"
  },
  "language_info": {
   "codemirror_mode": {
    "name": "ipython",
    "version": 3
   },
   "file_extension": ".py",
   "mimetype": "text/x-python",
   "name": "python",
   "nbconvert_exporter": "python",
   "pygments_lexer": "ipython3",
   "version": "3.6.9"
  }
 },
 "nbformat": 4,
 "nbformat_minor": 2
}
